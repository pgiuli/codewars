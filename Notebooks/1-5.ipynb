{
 "cells": [
  {
   "cell_type": "markdown",
   "metadata": {},
   "source": [
    "Activitat 1"
   ]
  },
  {
   "cell_type": "code",
   "execution_count": null,
   "metadata": {},
   "outputs": [],
   "source": [
    "amps = int(input('Enter Amperage: '))\n",
    "ohms = int(input('Enter Ressistance: '))\n",
    "\n",
    "print(f'A voltage of: {amps * ohms}V is needed.')"
   ]
  },
  {
   "cell_type": "markdown",
   "metadata": {},
   "source": [
    "Activitat 2"
   ]
  },
  {
   "cell_type": "code",
   "execution_count": null,
   "metadata": {},
   "outputs": [],
   "source": [
    "th = int(input(''))\n",
    "\n",
    "pn = int((th*(3*th-1))/2)\n",
    "\n",
    "print(pn)"
   ]
  },
  {
   "cell_type": "markdown",
   "metadata": {},
   "source": [
    "Activitat 3"
   ]
  },
  {
   "cell_type": "code",
   "execution_count": null,
   "metadata": {},
   "outputs": [],
   "source": [
    "dni_nums = input('Enter your DNI numbers: ')\n",
    "\n",
    "remainder = int(dni_nums) % 23\n",
    "print(remainder)\n",
    "\n",
    "letters = {\n",
    "    0:'T',\n",
    "    1:'R',\n",
    "    2:'W',\n",
    "    3:'A',\n",
    "    4:'G',\n",
    "    5:'M',\n",
    "    6:'Y',\n",
    "    7:'F',\n",
    "    8:'P',\n",
    "    9:'D',\n",
    "    10:'X',\n",
    "    11:'B',\n",
    "    12:'N',\n",
    "    13:'J',\n",
    "    14:'Z',\n",
    "    15:'S',\n",
    "    16:'Q',\n",
    "    17:'V',\n",
    "    18:'H',\n",
    "    19:'L',\n",
    "    20:'C',\n",
    "    21:'K',\n",
    "    22:'E'\n",
    "    }\n",
    "\n",
    "letter = letters.get(remainder)\n",
    "print(f'Letter: {letter}')"
   ]
  },
  {
   "cell_type": "markdown",
   "metadata": {},
   "source": [
    "Activitat 4"
   ]
  },
  {
   "cell_type": "code",
   "execution_count": null,
   "metadata": {},
   "outputs": [],
   "source": [
    "repeat = int(input('How many times do you want to repeat the vowels? '))\n",
    "\n",
    "string = f\"{'O'*repeat}H Y{'E'*repeat}{'A'*repeat}H!\"\n",
    "\n",
    "print(string)"
   ]
  },
  {
   "cell_type": "markdown",
   "metadata": {},
   "source": [
    "Activitat 5"
   ]
  },
  {
   "cell_type": "code",
   "execution_count": null,
   "metadata": {},
   "outputs": [],
   "source": [
    "text = input('Input your text: ')\n",
    "\n",
    "for i in ['a','e','i','o','u','A','E','I','O','U']:\n",
    "    text = text.replace(i,'*')\n",
    "\n",
    "print(text)"
   ]
  }
 ],
 "metadata": {
  "language_info": {
   "name": "python"
  }
 },
 "nbformat": 4,
 "nbformat_minor": 2
}
