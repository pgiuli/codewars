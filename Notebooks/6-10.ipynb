{
 "cells": [
  {
   "cell_type": "markdown",
   "metadata": {},
   "source": [
    "Activitat 6"
   ]
  },
  {
   "cell_type": "code",
   "execution_count": null,
   "metadata": {},
   "outputs": [],
   "source": [
    "free_throws = int(input('Enter the amount of Free Throws: '))\n",
    "field_2pt = int(input('Enter the amount of Field Goals (2pt): '))\n",
    "field_3pt = int(input('Enter the amount of Field Goals behind the three-point line: '))\n",
    "total_shots = int(input('Enter the total amount of throws: '))\n",
    "\n",
    "points = free_throws + field_2pt * 2 + field_3pt * 3\n",
    "\n",
    "effectiveness = round(((free_throws + field_2pt + field_3pt) / total_shots) * 100)\n",
    "\n",
    "print(f'Total amount of points: {points}, shooting efectiveness: {effectiveness}')"
   ]
  },
  {
   "cell_type": "markdown",
   "metadata": {},
   "source": [
    "Activitat 7"
   ]
  },
  {
   "cell_type": "code",
   "execution_count": null,
   "metadata": {},
   "outputs": [],
   "source": [
    "#Frick codewars gender is not sex\n",
    "sex = input('Enter the sex of the patient (male/female): ')\n",
    "sex = sex.lower()\n",
    "\n",
    "red_cells = float(input('Enter the amount of red blood cells (million cells/mm3): '))\n",
    "white_cells = int(input('Enter the amount of white blood cells (cells/mm3): '))\n",
    "platelets = int(input('Enter the amount of platelets (platelets/mm3): '))\n",
    "hemoglobin = float(input('Enter the amount of hemoglobin (grams/dL): '))\n",
    "hematocrit = int(input('Enter the amount of hematocrit (%): '))\n",
    "\n",
    "values = [red_cells, white_cells, platelets, hemoglobin, hematocrit]\n",
    "names = ['Red blood cells', 'White blood cells', 'Platelets', 'Hemoglobin', 'Hematocrit']\n",
    "\n",
    "baseline_male = [(4.3,5.9), (4500,11000), (150000,400000), (13.5,17.5), (41,53)]\n",
    "\n",
    "baseline_female = [(3.5,5.5), (4500,11000), (150000,400000), (12.0,16.0), (36,46)]\n",
    "\n",
    "def check(sex):\n",
    "    if sex == 'male':\n",
    "        baseline = baseline_male\n",
    "    if sex == 'female':\n",
    "        baseline = baseline_female\n",
    "\n",
    "    for i in range(len(values)):\n",
    "        if baseline[i][0] < values[i] and values[i] < baseline[i][1]:\n",
    "            print(f'{names[i]}: NORMAL')\n",
    "        else:\n",
    "            print(f'{names[i]}: VISIT THE DOCTOR')\n",
    "\n",
    "check(sex)"
   ]
  },
  {
   "cell_type": "markdown",
   "metadata": {},
   "source": [
    "Activitat 8"
   ]
  },
  {
   "cell_type": "code",
   "execution_count": null,
   "metadata": {},
   "outputs": [],
   "source": [
    "initialnum = int(input('Enter the initial number (n>1): '))\n",
    "\n",
    "if initialnum < 1:\n",
    "    raise ValueError\n",
    "\n",
    "num = initialnum\n",
    "\n",
    "steps = 0\n",
    "\n",
    "string = ''\n",
    "\n",
    "while num != 1:\n",
    "    string += f'{num} -> '\n",
    "    if num % 2 == 0:\n",
    "        num = round(num/2)\n",
    "    elif num % 2 == 1:\n",
    "        num = num * 3 + 1\n",
    "    steps += 1\n",
    "\n",
    "string += f'1 [{steps}]'\n",
    "\n",
    "print(string)\n",
    "    \n",
    "    "
   ]
  },
  {
   "cell_type": "markdown",
   "metadata": {},
   "source": [
    "Activitat 9"
   ]
  },
  {
   "cell_type": "code",
   "execution_count": null,
   "metadata": {},
   "outputs": [],
   "source": [
    "actual_frequency = int(input('Enter the actual FQ (Hz): '))\n",
    "speed_of_sound = int(input('Enter the speed of the sound waves (m/s): '))\n",
    "observer_vel = int(input('Enter the velocity of the observer (km/h): '))\n",
    "object_vel = int(input('Enter the velocity of the noisy object (km/h): '))\n",
    "\n",
    "\n",
    "aparent_frequency = actual_frequency * ((speed_of_sound + observer_vel) / (speed_of_sound + object_vel))\n",
    "\n",
    "print(f'The apparent frequency is {round(aparent_frequency, 2)}Hz')\n",
    "\n"
   ]
  },
  {
   "cell_type": "markdown",
   "metadata": {},
   "source": [
    "Activitat 10"
   ]
  },
  {
   "cell_type": "code",
   "execution_count": null,
   "metadata": {},
   "outputs": [],
   "source": [
    "nums = []\n",
    "while True:\n",
    "    num = input('Enter a number or # to stop: ')\n",
    "    if num == '#':\n",
    "        break\n",
    "    else:\n",
    "        nums.append(int(num))\n",
    "\n",
    "print(nums)\n",
    "\n",
    "\n",
    "#Sums\n",
    "\n",
    "for i in range(len(nums)):\n",
    "    exclnums = nums\n",
    "    exclnums =  exclnums[:i] + exclnums[i+1 :]\n",
    "\n",
    "    sumres = 0\n",
    "    for i in exclnums:\n",
    "        sumres += i\n",
    "\n",
    "    print(f'Sum: {sumres}')\n",
    "    \n",
    "    multres = 1\n",
    "    for i in exclnums:\n",
    "        multres = multres * i\n",
    "    \n",
    "    print(f'Mult: {multres}')\n"
   ]
  }
 ],
 "metadata": {
  "language_info": {
   "name": "python"
  }
 },
 "nbformat": 4,
 "nbformat_minor": 2
}
