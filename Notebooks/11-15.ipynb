{
 "cells": [
  {
   "cell_type": "markdown",
   "metadata": {},
   "source": [
    "Activitat 11"
   ]
  },
  {
   "cell_type": "code",
   "execution_count": null,
   "metadata": {},
   "outputs": [],
   "source": [
    "inputletters = input('Enter the readable letters: ')\n",
    "dictionary = []\n",
    "for i in inputletters:\n",
    "    dictionary.append(i)\n",
    "\n",
    "wordsnum = int(input('Enter the amount of words to be tested: '))\n",
    "\n",
    "words = []\n",
    "for i in range(wordsnum):\n",
    "    word = input('Enter a word: ')\n",
    "    words.append(word.lower())\n",
    "print(words)\n",
    "\n",
    "\n",
    "for testedword in words:\n",
    "    for letter in testedword:\n",
    "        if letter not in dictionary:\n",
    "            print('No')\n",
    "            break\n",
    "    else:\n",
    "        print('Yes')\n",
    "    "
   ]
  },
  {
   "cell_type": "markdown",
   "metadata": {},
   "source": [
    "Activitat 12"
   ]
  },
  {
   "cell_type": "code",
   "execution_count": null,
   "metadata": {},
   "outputs": [],
   "source": [
    "word = input('Enter the word to be guessed: ').upper()\n",
    "tried_string = input('Enter letters to guess: ').upper()\n",
    "lives = 7\n",
    "\n",
    "word_letters = []\n",
    "for i in word:\n",
    "    word_letters.append(i)\n",
    "tried_letters = []\n",
    "for i in tried_string:\n",
    "    tried_letters.append(i)\n",
    "\n",
    "\n",
    "print('_' * len(word))\n",
    "\n",
    "result = []\n",
    "for letter in tried_letters:\n",
    "    if letter not in word_letters:\n",
    "        if lives != 0:\n",
    "            lives -= 1\n",
    "\n",
    "for letter in word_letters:\n",
    "    if letter in tried_letters:\n",
    "        result.append(letter)\n",
    "    else:\n",
    "        result.append('_')\n",
    "\n",
    "print(''.join(result))\n",
    "\n",
    "if result == word_letters:\n",
    "    print('Player wins!')\n",
    "elif lives > 0:\n",
    "    print('Word not completed and player is still alive.')\n",
    "else:\n",
    "    print('Player Loses.')\n",
    "\n",
    "print(f'Lives: {lives}')"
   ]
  },
  {
   "cell_type": "markdown",
   "metadata": {},
   "source": [
    "Activitat 13"
   ]
  },
  {
   "cell_type": "code",
   "execution_count": null,
   "metadata": {},
   "outputs": [],
   "source": [
    "\n",
    "#TODO transformation functions\n",
    "\n",
    "def base26_to_base10(string):\n",
    "    chars = []\n",
    "    for char in string:\n",
    "        chars.append(char)\n",
    "    num = 0\n",
    "    index = len(chars)\n",
    "    for i in chars:\n",
    "        index -= 1\n",
    "        #print(index)\n",
    "        num += (ord(i) - 64) * (26 ** index)\n",
    "    return num\n",
    "\n",
    "def base10_to_base26(num):\n",
    "    chars = []\n",
    "    while num > 0:\n",
    "        chars.append(chr((num % 26) + 64))\n",
    "        num = num // 26\n",
    "    chars.reverse()\n",
    "    chars = ''.join(chars)\n",
    "    return chars\n",
    "\n",
    "origin = input('Enter your input: ')\n",
    "\n",
    "try:\n",
    "    origin = int(origin)\n",
    "except:\n",
    "    origin = origin.upper()\n",
    "    print(base26_to_base10(origin))\n",
    "else:\n",
    "    print(base10_to_base26(origin))\n"
   ]
  },
  {
   "cell_type": "markdown",
   "metadata": {},
   "source": [
    "Activitat 14"
   ]
  },
  {
   "cell_type": "code",
   "execution_count": null,
   "metadata": {},
   "outputs": [],
   "source": [
    "keywords = []\n",
    "while True:\n",
    "    x = input('Enter keyword, shift number or # to finish: ')\n",
    "    if x == '#':\n",
    "        break\n",
    "    try:\n",
    "        x = int(x)\n",
    "    except:\n",
    "        keywords.append(x)\n",
    "    else:\n",
    "        shift = x\n",
    "\n",
    "print(keywords,shift)\n",
    "\n",
    "for i in range(shift):\n",
    "    keywords.insert(len(keywords)-1,keywords.pop(0))\n",
    "\n",
    "for i in keywords:\n",
    "    print(keywords[i])"
   ]
  },
  {
   "cell_type": "markdown",
   "metadata": {},
   "source": [
    "Activitat 15"
   ]
  },
  {
   "cell_type": "code",
   "execution_count": null,
   "metadata": {},
   "outputs": [],
   "source": [
    "num = int(input('Enter the amount of pyramids to analyze :'))\n",
    "\n",
    "items = []\n",
    "for i in range(num):\n",
    "    items.append(input('Input pyramid info: '))\n",
    "\n",
    "\n",
    "for pyramid in items:\n",
    "    stringlist = pyramid.split(' ')\n",
    "    name = stringlist.pop(0)\n",
    "    for i in range(int((len(stringlist)-1)/2)):\n",
    "        if stringlist[i] != stringlist[-(i+1)]:\n",
    "            print(f'{name} has NOT the same number of steps for both faces')\n",
    "            break\n",
    "        else:\n",
    "            continue\n",
    "    else:\n",
    "        print(f'{name} has the same number of steps for both faces')\n"
   ]
  }
 ],
 "metadata": {
  "language_info": {
   "name": "python"
  }
 },
 "nbformat": 4,
 "nbformat_minor": 2
}
